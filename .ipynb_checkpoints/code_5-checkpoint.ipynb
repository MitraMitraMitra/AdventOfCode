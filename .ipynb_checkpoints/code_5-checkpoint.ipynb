{
 "cells": [
  {
   "cell_type": "code",
   "execution_count": 452,
   "id": "generic-newsletter",
   "metadata": {},
   "outputs": [],
   "source": [
    "from PIL import Image,ImageDraw,ImageFont\n",
    "import re"
   ]
  },
  {
   "cell_type": "code",
   "execution_count": 453,
   "id": "adverse-green",
   "metadata": {},
   "outputs": [],
   "source": [
    "lines = []\n",
    "horinzontal_vertical_lines = []\n",
    "maxi = 0\n",
    "f = open('puzzle_5_input.txt', 'r')\n",
    "for i in f:\n",
    "    line = re.findall('[0-9]+', i)\n",
    "    line = [int(i) for i in line]\n",
    "    if maxi < max(line):\n",
    "        maxi = max(line)\n",
    "    lines.append(line)\n",
    "    if line[0] == line[2] or line[1] == line[3]:\n",
    "        horinzontal_vertical_lines.append(line)"
   ]
  },
  {
   "cell_type": "code",
   "execution_count": 454,
   "id": "attended-actress",
   "metadata": {},
   "outputs": [],
   "source": [
    "canvas = Image.new('RGB', (maxi + 10, maxi + 10), \"white\")\n",
    "draw = ImageDraw.Draw(canvas)"
   ]
  },
  {
   "cell_type": "code",
   "execution_count": 455,
   "id": "excessive-replica",
   "metadata": {},
   "outputs": [],
   "source": [
    "pixels = canvas.load()"
   ]
  },
  {
   "cell_type": "code",
   "execution_count": 456,
   "id": "choice-linux",
   "metadata": {},
   "outputs": [],
   "source": [
    "for i in horinzontal_vertical_lines:\n",
    "    for x in range(min(i[0], i[2]), max(i[0], i[2]) + 1):\n",
    "        for y in range(min(i[1], i[3]), max(i[1], i[3]) + 1):\n",
    "            if pixels[x, y] == (255, 255, 255):\n",
    "                pixels[x, y] = (0, 255, 0)\n",
    "            else:\n",
    "                pixels[x, y] = (255, 0, 0)\n",
    "canvas.show()"
   ]
  },
  {
   "cell_type": "code",
   "execution_count": 457,
   "id": "specialized-publication",
   "metadata": {},
   "outputs": [],
   "source": [
    "red_points = []\n",
    "for i in range(0, maxi + 2):\n",
    "    for j in range(0, maxi + 2):\n",
    "        if pixels[i, j] == (255, 0, 0):\n",
    "            red_points.append((i, j))            "
   ]
  },
  {
   "cell_type": "markdown",
   "id": "rolled-borough",
   "metadata": {},
   "source": [
    "## ANSWER FOR PART TWO: ##"
   ]
  },
  {
   "cell_type": "code",
   "execution_count": 464,
   "id": "bored-lawyer",
   "metadata": {},
   "outputs": [
    {
     "data": {
      "text/plain": [
       "5835"
      ]
     },
     "execution_count": 464,
     "metadata": {},
     "output_type": "execute_result"
    }
   ],
   "source": [
    "len(red_points)"
   ]
  },
  {
   "cell_type": "markdown",
   "id": "meaningful-twist",
   "metadata": {},
   "source": [
    "## PART TWO: ###"
   ]
  },
  {
   "cell_type": "code",
   "execution_count": 459,
   "id": "gorgeous-compiler",
   "metadata": {},
   "outputs": [],
   "source": [
    "canvas.show()"
   ]
  },
  {
   "cell_type": "code",
   "execution_count": 462,
   "id": "rising-penny",
   "metadata": {},
   "outputs": [
    {
     "name": "stdout",
     "output_type": "stream",
     "text": [
      "12157\n"
     ]
    }
   ],
   "source": [
    "points = []\n",
    "for i in lines:\n",
    "    if i not in horinzontal_vertical_lines:\n",
    "        x = i[0]\n",
    "        y = i[1]\n",
    "        while x != i[2]:\n",
    "            if pixels[x, y] == (255, 0, 0) or pixels[x, y] == (0, 255, 0):\n",
    "                points.append((x, y))\n",
    "            else:\n",
    "                pixels[x, y] = (255, 0, 0) \n",
    "                \n",
    "            if i[0] < i[2]:\n",
    "                x = x + 1\n",
    "            else:\n",
    "                x = x - 1\n",
    "                \n",
    "            if i[1] < i[3]:\n",
    "                y = y + 1\n",
    "            else:\n",
    "                y = y - 1\n",
    "                \n",
    "        if pixels[x, y] == (255, 0, 0) or pixels[x, y] == (0, 255, 0):\n",
    "                points.append((x, y))\n",
    "        else:\n",
    "            pixels[x, y] = (255, 0, 0)\n",
    "                \n",
    "              \n",
    "                \n",
    "print(len(points))"
   ]
  },
  {
   "cell_type": "markdown",
   "id": "surprising-stockholm",
   "metadata": {},
   "source": [
    "## ANSWER FOR PART TWO: ##"
   ]
  },
  {
   "cell_type": "code",
   "execution_count": 463,
   "id": "measured-answer",
   "metadata": {},
   "outputs": [
    {
     "data": {
      "text/plain": [
       "17013"
      ]
     },
     "execution_count": 463,
     "metadata": {},
     "output_type": "execute_result"
    }
   ],
   "source": [
    "len(set(red_points + points))"
   ]
  }
 ],
 "metadata": {
  "kernelspec": {
   "display_name": "Python 3",
   "language": "python",
   "name": "python3"
  },
  "language_info": {
   "codemirror_mode": {
    "name": "ipython",
    "version": 3
   },
   "file_extension": ".py",
   "mimetype": "text/x-python",
   "name": "python",
   "nbconvert_exporter": "python",
   "pygments_lexer": "ipython3",
   "version": "3.9.0"
  }
 },
 "nbformat": 4,
 "nbformat_minor": 5
}
