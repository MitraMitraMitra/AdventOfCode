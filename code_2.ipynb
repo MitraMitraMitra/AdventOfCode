{
 "cells": [
  {
   "cell_type": "code",
   "execution_count": 7,
   "metadata": {},
   "outputs": [
    {
     "name": "stdout",
     "output_type": "stream",
     "text": [
      "[1909, 655]\n",
      "1250395\n"
     ]
    }
   ],
   "source": [
    "directions = []\n",
    "f = open('puzzle_2_input.txt', 'r')\n",
    "pos = [0, 0]\n",
    "for i in f:\n",
    "    move = i.split(' ')\n",
    "    if move[0] == 'forward':\n",
    "        pos[0] = pos[0] + int(move[1])\n",
    "    elif move[0] == 'up':\n",
    "        pos[1] = pos[1] - int(move[1])\n",
    "    elif move[0] == 'down':\n",
    "        pos[1] = pos[1] + int(move[1])\n",
    "print(pos)\n",
    "print(pos[0] * pos[1])\n"
   ]
  },
  {
   "cell_type": "code",
   "execution_count": null,
   "outputs": [],
   "source": [
    "directions = []\n",
    "f = open('puzzle_2_input.txt', 'r')\n",
    "# horizontal, depth, aim\n",
    "pos = [0, 0, 0]\n",
    "for i in f:\n",
    "    move = i.split(' ')\n",
    "    if move[0] == 'forward':\n",
    "        pos[0] = pos[0] + int(move[1])\n",
    "        pos[1] = pos[1] + int(move[1]) * pos[2]\n",
    "    elif move[0] == 'up':\n",
    "        pos[2] = pos[2] - int(move[1])\n",
    "    elif move[0] == 'down':\n",
    "        pos[2] = pos[2] + int(move[1])\n",
    "print(pos)\n",
    "print(pos[0] * pos[1])\n"
   ],
   "metadata": {
    "collapsed": false,
    "pycharm": {
     "name": "#%%\n"
    }
   }
  },
  {
   "cell_type": "code",
   "execution_count": 12,
   "metadata": {},
   "outputs": [
    {
     "name": "stdout",
     "output_type": "stream",
     "text": [
      "[1909, 760194, 655]\n",
      "1451210346\n"
     ]
    }
   ],
   "source": [
    "directions = []\n",
    "f = open('puzzle_2_input.txt', 'r')\n",
    "# horizontal, depth, aim\n",
    "pos = [0, 0, 0]\n",
    "for i in f:\n",
    "    move = i.split(' ')\n",
    "    if move[0] == 'forward':\n",
    "        pos[0] = pos[0] + int(move[1])\n",
    "        pos[1] = pos[1] + int(move[1]) * pos[2]\n",
    "    elif move[0] == 'up':\n",
    "        pos[2] = pos[2] - int(move[1])\n",
    "    elif move[0] == 'down':\n",
    "        pos[2] = pos[2] + int(move[1])\n",
    "print(pos)\n",
    "print(pos[0] * pos[1])\n"
   ]
  }
 ],
 "metadata": {
  "kernelspec": {
   "display_name": "Python 3",
   "language": "python",
   "name": "python3"
  },
  "language_info": {
   "codemirror_mode": {
    "name": "ipython",
    "version": 3
   },
   "file_extension": ".py",
   "mimetype": "text/x-python",
   "name": "python",
   "nbconvert_exporter": "python",
   "pygments_lexer": "ipython3",
   "version": "3.9.0"
  }
 },
 "nbformat": 4,
 "nbformat_minor": 1
}