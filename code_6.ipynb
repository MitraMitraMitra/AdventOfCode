{
 "cells": [
  {
   "cell_type": "code",
   "execution_count": 37,
   "id": "personal-prerequisite",
   "metadata": {},
   "outputs": [
    {
     "name": "stdout",
     "output_type": "stream",
     "text": [
      "[5, 4, 3, 5, 1, 1, 2, 1, 2, 1, 3, 2, 3, 4, 5, 1, 2, 4, 3, 2, 5, 1, 4, 2, 1, 1, 2, 5, 4, 4, 4, 1, 5, 4, 5, 2, 1, 2, 5, 5, 4, 1, 3, 1, 4, 2, 4, 2, 5, 1, 3, 5, 3, 2, 3, 1, 1, 4, 5, 2, 4, 3, 1, 5, 5, 1, 3, 1, 3, 2, 2, 4, 1, 3, 4, 3, 3, 4, 1, 3, 4, 3, 4, 5, 2, 1, 1, 1, 4, 5, 5, 1, 1, 3, 2, 4, 1, 2, 2, 2, 4, 1, 2, 5, 5, 1, 4, 5, 2, 4, 2, 1, 5, 4, 1, 3, 4, 1, 2, 3, 1, 5, 1, 3, 4, 5, 4, 1, 4, 3, 3, 3, 5, 5, 1, 1, 5, 1, 5, 5, 1, 5, 2, 1, 5, 1, 2, 3, 5, 5, 1, 3, 3, 1, 5, 3, 4, 3, 4, 3, 2, 5, 2, 1, 2, 5, 1, 1, 1, 1, 5, 1, 1, 4, 3, 3, 5, 1, 1, 1, 4, 4, 1, 3, 3, 5, 5, 4, 3, 2, 1, 2, 2, 3, 4, 1, 5, 4, 3, 1, 1, 5, 1, 4, 2, 3, 2, 2, 3, 4, 1, 3, 4, 1, 4, 3, 4, 3, 1, 3, 3, 1, 1, 4, 1, 1, 1, 4, 5, 3, 1, 1, 2, 5, 2, 5, 1, 5, 3, 3, 1, 3, 5, 5, 1, 5, 4, 3, 1, 5, 1, 1, 5, 5, 1, 1, 2, 5, 5, 5, 1, 1, 3, 2, 2, 3, 4, 5, 5, 2, 5, 4, 2, 1, 5, 1, 4, 4, 5, 4, 4, 1, 2, 1, 1, 2, 3, 5, 5, 1, 3, 1, 4, 2, 3, 3, 1, 4, 1, 1]\n"
     ]
    }
   ],
   "source": [
    "f = open('puzzle_6_input.txt', 'r')\n",
    "text = []\n",
    "for i in f:\n",
    "    text.append(i)\n",
    "\n",
    "fish = []\n",
    "text = text[0].split(',')\n",
    "for i in text:\n",
    "    fish.append(int(i))\n",
    "print(fish)"
   ]
  },
  {
   "cell_type": "code",
   "execution_count": 2,
   "id": "resistant-connection",
   "metadata": {},
   "outputs": [],
   "source": [
    "fish = [1, 3, 4, 1, 4, 3, 4, 3, 1, 3, 3, 1, 1, 4, 1, 1, 1, 4, 5, 3, 1, 1, 2, 5, 2, 5, 1, 5, 3, 3, 1, 3, 5, 5, 1, 5, 4, 3, 1, 5, 1, 1, 5, 5, 1, 1, 2, 5, 5, 5, 1, 1, 3, 2, 2, 3, 4, 5, 5, 2, 5, 4, 2, 1, 5, 1, 4, 4, 5, 4, 4, 1, 2, 1, 1, 2, 3, 5, 5, 1, 3, 1, 4, 2, 3, 3, 1, 4, 1, 1]"
   ]
  },
  {
   "cell_type": "code",
   "execution_count": 38,
   "id": "amino-integration",
   "metadata": {},
   "outputs": [],
   "source": [
    "def f(x):\n",
    "    #a = 5.144603\n",
    "    #b = 1.09381\n",
    "    a = 358.8377562\n",
    "    b = 1.090975206\n",
    "    return a * (b ** x)"
   ]
  },
  {
   "cell_type": "code",
   "execution_count": null,
   "outputs": [],
   "source": [
    "fish = [3, 4, 3, 1, 2]"
   ],
   "metadata": {
    "collapsed": false,
    "pycharm": {
     "name": "#%%\n"
    }
   }
  },
  {
   "cell_type": "code",
   "execution_count": null,
   "outputs": [],
   "source": [
    "#x = 3\n",
    "#current_fishes = [3, 4, 3, 1, 2]\n",
    "#i = 0\n",
    "#while i < len(current_fishes):\n",
    "current_fishes = fish\n",
    "for day in range(0, 101):\n",
    "    print(day, len(current_fishes), f(day))\n",
    "    #print(day, len(current_fishes))\n",
    "    #print(current_fishes)\n",
    "    #print(day)\n",
    "    new_fishes = []\n",
    "    for i in range(0, len(current_fishes)):\n",
    "        if current_fishes[i] == 0:\n",
    "            new_fishes.append(8)\n",
    "            current_fishes[i] = 6\n",
    "        else:\n",
    "            current_fishes[i] = current_fishes[i] - 1\n",
    "    current_fishes = current_fishes + new_fishes\n",
    "\n",
    "print(current_fishes)\n",
    "print(len(current_fishes))\n",
    "    \n",
    "    "
   ],
   "metadata": {
    "collapsed": false,
    "pycharm": {
     "name": "#%%\n"
    }
   }
  },
  {
   "cell_type": "code",
   "execution_count": null,
   "outputs": [],
   "source": [
    "f(256)"
   ],
   "metadata": {
    "collapsed": false,
    "pycharm": {
     "name": "#%%\n"
    }
   }
  },
  {
   "cell_type": "code",
   "execution_count": null,
   "outputs": [],
   "source": [
    "1719917432020"
   ],
   "metadata": {
    "collapsed": false,
    "pycharm": {
     "name": "#%%\n"
    }
   }
  },
  {
   "cell_type": "code",
   "execution_count": 1,
   "id": "anonymous-croatia",
   "metadata": {},
   "outputs": [],
   "source": [
    "1719917432020"
   ]
  },
  {
   "cell_type": "code",
   "execution_count": 41,
   "id": "better-faculty",
   "metadata": {},
   "outputs": [
    {
     "name": "stdout",
     "output_type": "stream",
     "text": [
      "0 300 358.8377562\n",
      "1 345 391.48309499087276\n",
      "2 399 427.098350203185\n",
      "3 451 465.9537105951799\n",
      "4 512 508.3439454030408\n",
      "5 512 554.590640554935\n",
      "6 512 605.0446383250923\n",
      "7 600 660.0886989359129\n",
      "8 645 720.1404042998797\n",
      "9 699 785.6553259299844\n",
      "10 796 857.130481051462\n",
      "11 911 935.1081031339977\n",
      "12 963 1020.1797554488825\n",
      "13 1024 1112.990818857874\n",
      "14 1112 1214.2453878795777\n",
      "15 1157 1324.7116121764723\n",
      "16 1299 1445.227523984819\n",
      "17 1441 1576.7073956962079\n",
      "18 1610 1720.1486758213937\n",
      "19 1759 1876.639555954872\n",
      "20 1935 2047.3672261456152\n",
      "21 2075 2233.626881301861\n",
      "22 2181 2436.8315469554354\n",
      "23 2411 2658.5227989270047\n",
      "24 2598 2900.3824582150855\n",
      "25 2909 3164.2453498299888\n",
      "26 3200 3452.1132223653144\n",
      "27 3545 3766.1699339053225\n",
      "28 3834 4108.7980194733655\n",
      "29 4116 4482.596765707347\n",
      "30 4486 4890.401929882507\n",
      "31 4779 5335.307252876365\n",
      "32 5320 5820.687929280087\n",
      "33 5798 6350.226212708056\n",
      "34 6454 6927.93935055577\n",
      "35 7034 7558.210060128088\n",
      "36 7661 8245.819777339513\n",
      "37 8320 8995.98493022185\n",
      "38 8895 9814.396512421676\n",
      "39 9806 10707.26325690492\n",
      "40 10577 11681.358737398075\n",
      "41 11774 12744.072754892766\n",
      "42 12832 13903.467399048122\n",
      "43 14115 15168.338209790807\n",
      "44 15354 16548.2809031042\n",
      "45 16556 18053.764167209967\n",
      "46 18126 19696.209081397315\n",
      "47 19472 21488.075759996504\n",
      "48 21580 23442.95787880579\n",
      "49 23409 25575.685801079475\n",
      "50 25889 27902.43908542395\n",
      "51 28186 30440.869229122847\n",
      "52 30671 33210.23357806136\n",
      "53 33480 36231.54141913361\n",
      "54 36028 39527.713363436815\n",
      "55 39706 43123.755229384435\n",
      "56 42881 47046.947744871264\n",
      "57 47469 51327.053507632154\n",
      "58 51595 55996.54277386201\n",
      "59 56560 61090.83978800192\n",
      "60 61666 66648.5915224284\n",
      "61 66699 72711.96086579116\n",
      "62 73186 79326.94648422045\n",
      "63 78909 86543.73178197339\n",
      "64 87175 94417.06560884716\n",
      "65 94476 103006.67760252755\n",
      "66 104029 112377.73131679307\n",
      "67 113261 122601.31857315096\n",
      "68 123259 133754.99878621497\n",
      "69 134852 145923.38735432064\n",
      "70 145608 159198.79757909777\n",
      "71 160361 173681.94098380845\n",
      "72 173385 189482.6913432903\n",
      "73 191204 206720.91822168053\n",
      "74 207737 225527.39634140706\n",
      "75 227288 246044.79768221022\n",
      "76 248113 268428.7738365776\n",
      "77 268867 292849.13683268765\n",
      "78 295213 319491.14738296357\n",
      "79 318993 348556.92033130507\n",
      "80 351565 380266.9579611711\n",
      "81 381122 414861.82279668195\n",
      "82 418492 452603.9625871457\n",
      "83 455850 493779.7013199275\n",
      "84 496155 538701.4113661263\n",
      "85 543326 587709.8832376504\n",
      "86 587860 641176.9109334316\n",
      "87 646778 699508.1124880442\n",
      "88 700115 763146.0071203151\n",
      "89 770057 832573.3723261632\n",
      "90 836972 908316.9063836506\n",
      "91 914647 990951.224055186\n",
      "92 999176 1081103.2157995587\n",
      "93 1084015 1179456.8035641857\n",
      "94 1190104 1286758.1292365391\n",
      "95 1287975 1403821.215116008\n",
      "96 1416835 1531534.1393483572\n",
      "97 1537087 1670865.7731716067\n",
      "98 1684704 1822873.1310842426\n",
      "99 1836148 1988709.3896964965\n",
      "100 1998662 2169632.63609827\n"
     ]
    },
    {
     "name": "stderr",
     "output_type": "stream",
     "text": [
      "IOPub data rate exceeded.\n",
      "The notebook server will temporarily stop sending output\n",
      "to the client in order to avoid crashing it.\n",
      "To change this limit, set the config variable\n",
      "`--NotebookApp.iopub_data_rate_limit`.\n",
      "\n",
      "Current values:\n",
      "NotebookApp.iopub_data_rate_limit=1000000.0 (bytes/sec)\n",
      "NotebookApp.rate_limit_window=3.0 (secs)\n",
      "\n"
     ]
    }
   ],
   "source": [
    "#x = 3\n",
    "#current_fishes = [3, 4, 3, 1, 2]\n",
    "#i = 0\n",
    "#while i < len(current_fishes):\n",
    "current_fishes = fish\n",
    "for day in range(0, 101):\n",
    "    print(day, len(current_fishes), f(day))\n",
    "    #print(day, len(current_fishes))\n",
    "    #print(current_fishes)\n",
    "    #print(day)\n",
    "    new_fishes = []\n",
    "    for i in range(0, len(current_fishes)):\n",
    "        if current_fishes[i] == 0:\n",
    "            new_fishes.append(8)\n",
    "            current_fishes[i] = 6\n",
    "        else:\n",
    "            current_fishes[i] = current_fishes[i] - 1\n",
    "    current_fishes = current_fishes + new_fishes\n",
    "\n",
    "print(current_fishes)\n",
    "print(len(current_fishes))\n",
    "    \n",
    "    "
   ]
  },
  {
   "cell_type": "code",
   "execution_count": 42,
   "id": "international-oklahoma",
   "metadata": {},
   "outputs": [
    {
     "data": {
      "text/plain": [
       "1719917432020.2117"
      ]
     },
     "execution_count": 42,
     "metadata": {},
     "output_type": "execute_result"
    }
   ],
   "source": [
    "f(256)"
   ]
  },
  {
   "cell_type": "code",
   "execution_count": null,
   "id": "native-graduate",
   "metadata": {},
   "outputs": [],
   "source": [
    "1719917432020"
   ]
  }
 ],
 "metadata": {
  "kernelspec": {
   "display_name": "Python 3",
   "language": "python",
   "name": "python3"
  },
  "language_info": {
   "codemirror_mode": {
    "name": "ipython",
    "version": 3
   },
   "file_extension": ".py",
   "mimetype": "text/x-python",
   "name": "python",
   "nbconvert_exporter": "python",
   "pygments_lexer": "ipython3",
   "version": "3.9.0"
  }
 },
 "nbformat": 4,
 "nbformat_minor": 5
}