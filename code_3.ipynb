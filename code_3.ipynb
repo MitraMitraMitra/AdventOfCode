{
 "cells": [
  {
   "cell_type": "code",
   "execution_count": 30,
   "id": "boring-hypothetical",
   "metadata": {},
   "outputs": [],
   "source": [
    "import pandas as pd"
   ]
  },
  {
   "cell_type": "code",
   "execution_count": 19,
   "id": "overall-injection",
   "metadata": {},
   "outputs": [],
   "source": [
    "f = open('puzzle_3_input.txt', 'r')\n",
    "matrix = []\n",
    "index = 0\n",
    "for i in f:\n",
    "    #print(i[-1:])\n",
    "    matrix.append([])\n",
    "    if i[-1:] == '\\n':\n",
    "        i = i[0:-1]\n",
    "    for j in i:\n",
    "        matrix[index].append(int(j))\n",
    "    index = index + 1\n",
    "#print(matrix)"
   ]
  },
  {
   "cell_type": "code",
   "execution_count": 29,
   "id": "pretty-tension",
   "metadata": {},
   "outputs": [
    {
     "name": "stdout",
     "output_type": "stream",
     "text": [
      "110101101101\n",
      "001010010010\n",
      "3437\n",
      "658\n",
      "2261546\n"
     ]
    }
   ],
   "source": [
    "gamma = ''\n",
    "epsilon = ''\n",
    "for i in range(0, len(matrix[0])):\n",
    "    SUM = 0\n",
    "    for j in range(0, len(matrix)):\n",
    "        try:\n",
    "            SUM = SUM + matrix[j][i]\n",
    "        except:\n",
    "            print('i is', i)\n",
    "            print('j is', j)\n",
    "            print('matrix[j][i-1] is', matrix[j][i-1])\n",
    "    if SUM > int(len(matrix)/2):\n",
    "        gamma = gamma + '1'\n",
    "        epsilon = epsilon + '0'\n",
    "    else:\n",
    "        gamma = gamma + '0'\n",
    "        epsilon = epsilon + '1'\n",
    "print(gamma)\n",
    "print(epsilon)\n",
    "gamma = int(gamma, 2)\n",
    "epsilon = int(epsilon, 2)\n",
    "print(gamma)\n",
    "print(epsilon)\n",
    "print(gamma * epsilon)"
   ]
  },
  {
   "cell_type": "code",
   "execution_count": 71,
   "id": "willing-assumption",
   "metadata": {},
   "outputs": [
    {
     "name": "stdout",
     "output_type": "stream",
     "text": [
      "     0   1   2   3   4   5   6   7   8   9   10  11\n",
      "0     1   0   1   0   0   0   1   1   1   1   0   0\n",
      "1     0   0   0   0   1   1   1   1   1   1   0   1\n",
      "2     0   1   1   1   0   0   0   0   0   1   0   0\n",
      "3     1   0   0   1   0   0   0   1   0   0   0   0\n",
      "4     0   1   1   1   1   0   0   1   0   1   0   0\n",
      "..   ..  ..  ..  ..  ..  ..  ..  ..  ..  ..  ..  ..\n",
      "995   1   1   1   0   1   0   1   0   1   0   1   0\n",
      "996   1   0   1   0   1   0   1   1   0   0   0   0\n",
      "997   1   1   1   1   0   0   0   1   0   1   0   0\n",
      "998   0   0   0   1   1   1   1   0   0   1   1   1\n",
      "999   1   1   0   1   1   1   1   0   0   1   0   0\n",
      "\n",
      "[1000 rows x 12 columns]\n"
     ]
    }
   ],
   "source": [
    "#c = [x1, x2, x3]\n",
    "df = pd.DataFrame(matrix)\n",
    "print(df)"
   ]
  },
  {
   "cell_type": "code",
   "execution_count": 133,
   "id": "soviet-commodity",
   "metadata": {},
   "outputs": [
    {
     "name": "stdout",
     "output_type": "stream",
     "text": [
      "Empty DataFrame\n",
      "Columns: []\n",
      "Index: [7]\n"
     ]
    }
   ],
   "source": [
    "#oxygen\n",
    "df = pd.DataFrame(matrix)\n",
    "column_number = 0\n",
    "while len(df.columns > 1):\n",
    "    #print('column_number is now', column_number)\n",
    "    if df[column_number].value_counts()[0] == df[column_number].value_counts()[1]:\n",
    "        most_common_value = 1\n",
    "    else:\n",
    "        most_common_value = df[column_number].value_counts().index[0]\n",
    "    df = df[df[column_number] == most_common_value]\n",
    "    #if len(df.columns) == 1:\n",
    "        \n",
    "    #else:\n",
    "        #df = df.drop(columns = column_number)\n",
    "    df = df.drop(columns = column_number)    \n",
    "    #if len(df.columns) == 1:\n",
    "        #print(df)\n",
    "    column_number = column_number + 1\n",
    "print(df)\n",
    "#print('oxygen generator rating:', matrix[df['Index']])"
   ]
  },
  {
   "cell_type": "code",
   "execution_count": 134,
   "id": "governing-prayer",
   "metadata": {},
   "outputs": [
    {
     "name": "stdout",
     "output_type": "stream",
     "text": [
      "3995\n"
     ]
    }
   ],
   "source": [
    "n = [str(i) for i in matrix[7]]\n",
    "oxygen = int(''.join(n), 2)\n",
    "print(oxygen)"
   ]
  },
  {
   "cell_type": "code",
   "execution_count": 140,
   "id": "compound-evans",
   "metadata": {},
   "outputs": [
    {
     "name": "stdout",
     "output_type": "stream",
     "text": [
      "Empty DataFrame\n",
      "Columns: []\n",
      "Index: [364]\n"
     ]
    }
   ],
   "source": [
    "#oxygen\n",
    "df = pd.DataFrame(matrix)\n",
    "column_number = 0\n",
    "while len(df.columns > 1):\n",
    "    #print('column_number is now', column_number)\n",
    "    if len(df[column_number].value_counts()) > 1:\n",
    "        if df[column_number].value_counts()[0] == df[column_number].value_counts()[1]:\n",
    "            least_common_value = 0\n",
    "        else:\n",
    "            least_common_value = df[column_number].value_counts().index[1]\n",
    "    else:\n",
    "        least_common_value = df[column_number].value_counts().index[0]\n",
    "        \n",
    "    df = df[df[column_number] == least_common_value]\n",
    "    #if len(df.columns) == 1:\n",
    "        \n",
    "    #else:\n",
    "        #df = df.drop(columns = column_number)\n",
    "    df = df.drop(columns = column_number)    \n",
    "    #if len(df.columns) == 1:\n",
    "        #print(df)\n",
    "    column_number = column_number + 1\n",
    "print(df)\n",
    "#print('oxygen generator rating:', matrix[df['Index']])"
   ]
  },
  {
   "cell_type": "code",
   "execution_count": 141,
   "id": "sapphire-recommendation",
   "metadata": {},
   "outputs": [
    {
     "name": "stdout",
     "output_type": "stream",
     "text": [
      "1696\n"
     ]
    }
   ],
   "source": [
    "n = [str(i) for i in matrix[364]]\n",
    "CO2 = int(''.join(n), 2)\n",
    "print(CO2)"
   ]
  },
  {
   "cell_type": "code",
   "execution_count": 142,
   "id": "behavioral-envelope",
   "metadata": {},
   "outputs": [
    {
     "name": "stdout",
     "output_type": "stream",
     "text": [
      "life support rating is 6775520\n"
     ]
    }
   ],
   "source": [
    "print('life support rating is', oxygen * CO2)"
   ]
  }
 ],
 "metadata": {
  "kernelspec": {
   "display_name": "Python 3",
   "language": "python",
   "name": "python3"
  },
  "language_info": {
   "codemirror_mode": {
    "name": "ipython",
    "version": 3
   },
   "file_extension": ".py",
   "mimetype": "text/x-python",
   "name": "python",
   "nbconvert_exporter": "python",
   "pygments_lexer": "ipython3",
   "version": "3.9.0"
  }
 },
 "nbformat": 4,
 "nbformat_minor": 5
}
