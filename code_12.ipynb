{
 "cells": [
  {
   "cell_type": "code",
   "execution_count": 22,
   "id": "interracial-sunglasses",
   "metadata": {},
   "outputs": [],
   "source": [
    "import re"
   ]
  },
  {
   "cell_type": "code",
   "execution_count": 23,
   "id": "adolescent-lewis",
   "metadata": {},
   "outputs": [],
   "source": [
    "f = open('puzzle_12_input.txt', 'r')\n",
    "pairs = []\n",
    "for i in f:\n",
    "    pair = i.split('-')\n",
    "    pairs.append((pair[0], re.sub('\\n', '', pair[1])))"
   ]
  },
  {
   "cell_type": "code",
   "execution_count": 24,
   "id": "military-tamil",
   "metadata": {},
   "outputs": [],
   "source": [
    "pairs.remove(('ZP', 'start'))\n",
    "pairs.remove(('wx', 'start'))"
   ]
  },
  {
   "cell_type": "code",
   "execution_count": 25,
   "id": "violent-spectacular",
   "metadata": {},
   "outputs": [
    {
     "data": {
      "text/plain": [
       "[('kc', 'qy'),\n",
       " ('qy', 'FN'),\n",
       " ('kc', 'ZP'),\n",
       " ('end', 'FN'),\n",
       " ('li', 'ZP'),\n",
       " ('yc', 'start'),\n",
       " ('end', 'qy'),\n",
       " ('yc', 'ZP'),\n",
       " ('wx', 'ZP'),\n",
       " ('qy', 'li'),\n",
       " ('yc', 'li'),\n",
       " ('yc', 'wx'),\n",
       " ('kc', 'FN'),\n",
       " ('FN', 'li'),\n",
       " ('li', 'wx'),\n",
       " ('kc', 'wx'),\n",
       " ('li', 'kc'),\n",
       " ('qy', 'nv'),\n",
       " ('ZP', 'qy'),\n",
       " ('nv', 'xr'),\n",
       " ('end', 'nv'),\n",
       " ('kc', 'nv'),\n",
       " ('nv', 'XQ')]"
      ]
     },
     "execution_count": 25,
     "metadata": {},
     "output_type": "execute_result"
    }
   ],
   "source": [
    "pairs"
   ]
  },
  {
   "cell_type": "code",
   "execution_count": 26,
   "id": "inclusive-binary",
   "metadata": {},
   "outputs": [],
   "source": [
    "system = ['yc']\n",
    "found = True\n",
    "while found == True:\n",
    "    to_add = []\n",
    "    found = False\n",
    "    for i in system:\n",
    "        for pair in pairs:\n",
    "            if i in pair and (pair[0] not in system or pair[1] not in system):\n",
    "                to_add.append(pair[0])\n",
    "                to_add.append(pair[1])\n",
    "    to_add = list(set(to_add))\n",
    "    if to_add != []:\n",
    "        system = system + to_add\n",
    "        found = True\n",
    "system = list(set(system))"
   ]
  },
  {
   "cell_type": "code",
   "execution_count": 27,
   "id": "fifth-addition",
   "metadata": {},
   "outputs": [
    {
     "data": {
      "text/plain": [
       "['wx', 'nv', 'XQ', 'start', 'qy', 'li', 'yc', 'xr', 'FN', 'kc', 'end', 'ZP']"
      ]
     },
     "execution_count": 27,
     "metadata": {},
     "output_type": "execute_result"
    }
   ],
   "source": [
    "system"
   ]
  },
  {
   "cell_type": "code",
   "execution_count": 28,
   "id": "delayed-tuning",
   "metadata": {},
   "outputs": [],
   "source": [
    "pairs_new = [pair for pair in pairs if (pair[0] in system or pair[1] in system)]"
   ]
  },
  {
   "cell_type": "code",
   "execution_count": 29,
   "id": "english-possible",
   "metadata": {},
   "outputs": [
    {
     "data": {
      "text/plain": [
       "[('kc', 'qy'),\n",
       " ('qy', 'FN'),\n",
       " ('kc', 'ZP'),\n",
       " ('end', 'FN'),\n",
       " ('li', 'ZP'),\n",
       " ('yc', 'start'),\n",
       " ('end', 'qy'),\n",
       " ('yc', 'ZP'),\n",
       " ('wx', 'ZP'),\n",
       " ('qy', 'li'),\n",
       " ('yc', 'li'),\n",
       " ('yc', 'wx'),\n",
       " ('kc', 'FN'),\n",
       " ('FN', 'li'),\n",
       " ('li', 'wx'),\n",
       " ('kc', 'wx'),\n",
       " ('li', 'kc'),\n",
       " ('qy', 'nv'),\n",
       " ('ZP', 'qy'),\n",
       " ('nv', 'xr'),\n",
       " ('end', 'nv'),\n",
       " ('kc', 'nv'),\n",
       " ('nv', 'XQ')]"
      ]
     },
     "execution_count": 29,
     "metadata": {},
     "output_type": "execute_result"
    }
   ],
   "source": [
    "pairs_new"
   ]
  },
  {
   "cell_type": "code",
   "execution_count": 50,
   "id": "fixed-reconstruction",
   "metadata": {},
   "outputs": [],
   "source": [
    "class cave:\n",
    "    def __init__(self, name):\n",
    "        self.name = name\n",
    "        self.connections = []\n",
    "        if name.isupper():\n",
    "            self.size = 'uppercase'\n",
    "        else:\n",
    "            self.size = 'lowercase'"
   ]
  },
  {
   "cell_type": "code",
   "execution_count": 70,
   "id": "beneficial-memorial",
   "metadata": {},
   "outputs": [],
   "source": [
    "x = cave('kc')\n",
    "y = cave('qy')\n",
    "x.connections.append(y)\n",
    "y.connections.append(5)\n",
    "z = cave('ZP')"
   ]
  },
  {
   "cell_type": "code",
   "execution_count": 72,
   "id": "deadly-slovakia",
   "metadata": {},
   "outputs": [
    {
     "data": {
      "text/plain": [
       "[5]"
      ]
     },
     "execution_count": 72,
     "metadata": {},
     "output_type": "execute_result"
    }
   ],
   "source": [
    "x.connections[0].connections"
   ]
  },
  {
   "cell_type": "code",
   "execution_count": 60,
   "id": "mounted-transformation",
   "metadata": {},
   "outputs": [],
   "source": [
    "caves = []\n",
    "for i in pairs_new:\n",
    "    x = cave(i[0])\n",
    "    if x in caves:\n",
    "        caves[caves.index(x)].connections.append(cave(i[1]))\n",
    "    else:\n",
    "        caves.append(x)\n",
    "    \n",
    "    x = cave(i[1])\n",
    "    if x in caves:\n",
    "        caves[caves.index(x)].connections.append(cave(i[1]))\n",
    "    else:\n",
    "        caves.append(x)\n",
    "    #caves.append(cave(i[0], i[1]))\n",
    "    #caves.append(cave(i[1], i[0]))"
   ]
  },
  {
   "cell_type": "code",
   "execution_count": 61,
   "id": "unable-seeker",
   "metadata": {},
   "outputs": [
    {
     "name": "stdout",
     "output_type": "stream",
     "text": [
      "0\n",
      "0\n",
      "0\n",
      "0\n",
      "0\n",
      "0\n",
      "0\n",
      "0\n",
      "0\n",
      "0\n",
      "0\n",
      "0\n",
      "0\n",
      "0\n",
      "0\n",
      "0\n",
      "0\n",
      "0\n",
      "0\n",
      "0\n",
      "0\n",
      "0\n",
      "0\n",
      "0\n",
      "0\n",
      "0\n",
      "0\n",
      "0\n",
      "0\n",
      "0\n",
      "0\n",
      "0\n",
      "0\n",
      "0\n",
      "0\n",
      "0\n",
      "0\n",
      "0\n",
      "0\n",
      "0\n",
      "0\n",
      "0\n",
      "0\n",
      "0\n",
      "0\n",
      "0\n"
     ]
    }
   ],
   "source": [
    "for i in caves:\n",
    "    print(len(i.connections))"
   ]
  },
  {
   "cell_type": "code",
   "execution_count": null,
   "id": "coupled-bargain",
   "metadata": {},
   "outputs": [],
   "source": [
    "def get_connections(x):\n",
    "    "
   ]
  },
  {
   "cell_type": "code",
   "execution_count": null,
   "id": "needed-parking",
   "metadata": {},
   "outputs": [],
   "source": [
    "while path[-1]"
   ]
  },
  {
   "cell_type": "code",
   "execution_count": 31,
   "id": "warming-roman",
   "metadata": {},
   "outputs": [],
   "source": [
    "path = ['start','yc']"
   ]
  },
  {
   "cell_type": "code",
   "execution_count": 34,
   "id": "olympic-mechanism",
   "metadata": {},
   "outputs": [
    {
     "name": "stdout",
     "output_type": "stream",
     "text": [
      "start->yc->\n"
     ]
    }
   ],
   "source": [
    "s = ''\n",
    "for i in path:\n",
    "    s = s + i + '->'\n",
    "print(s)"
   ]
  },
  {
   "cell_type": "code",
   "execution_count": 38,
   "id": "short-things",
   "metadata": {},
   "outputs": [],
   "source": []
  },
  {
   "cell_type": "code",
   "execution_count": 14,
   "id": "signal-leadership",
   "metadata": {},
   "outputs": [
    {
     "data": {
      "text/plain": [
       "True"
      ]
     },
     "execution_count": 14,
     "metadata": {},
     "output_type": "execute_result"
    }
   ],
   "source": [
    "'XQ' in ('nv', 'XQ')"
   ]
  }
 ],
 "metadata": {
  "kernelspec": {
   "display_name": "Python 3",
   "language": "python",
   "name": "python3"
  },
  "language_info": {
   "codemirror_mode": {
    "name": "ipython",
    "version": 3
   },
   "file_extension": ".py",
   "mimetype": "text/x-python",
   "name": "python",
   "nbconvert_exporter": "python",
   "pygments_lexer": "ipython3",
   "version": "3.9.0"
  }
 },
 "nbformat": 4,
 "nbformat_minor": 5
}
