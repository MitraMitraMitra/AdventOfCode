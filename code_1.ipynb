{
 "cells": [
  {
   "cell_type": "code",
   "execution_count": 13,
   "metadata": {},
   "outputs": [
    {
     "name": "stdout",
     "output_type": "stream",
     "text": [
      "1597\n"
     ]
    }
   ],
   "source": [
    "numbers = []\n",
    "f = open('puzzle_1_input.txt', 'r')\n",
    "increase = 0\n",
    "current_value = None\n",
    "for i in f:\n",
    "    numbers.append(int(i))\n",
    "f.close()\n",
    "#SUM = sum(numbers[0], numbers[1], numbers[2])\n",
    "for i in range(0, len(numbers)-3):\n",
    "    if numbers[i] + numbers[i + 1] + numbers[i + 2] < numbers[i + 1] + numbers[i + 2] + numbers[i + 3]:\n",
    "        increase = increase + 1\n",
    "    #current_value = int(i)\n",
    "print(increase)\n",
    "            \n",
    "    \n",
    "#for i in range(1, len(f)):\n",
    "    #if numbers[i] > numbers[i-1]:\n",
    "        \n",
    "    "
   ]
  }
 ],
 "metadata": {
  "kernelspec": {
   "display_name": "Python 3",
   "language": "python",
   "name": "python3"
  },
  "language_info": {
   "codemirror_mode": {
    "name": "ipython",
    "version": 3
   },
   "file_extension": ".py",
   "mimetype": "text/x-python",
   "name": "python",
   "nbconvert_exporter": "python",
   "pygments_lexer": "ipython3",
   "version": "3.9.0"
  }
 },
 "nbformat": 4,
 "nbformat_minor": 1
}
